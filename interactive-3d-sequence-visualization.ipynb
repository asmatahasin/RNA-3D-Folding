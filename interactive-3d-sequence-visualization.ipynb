{
 "cells": [
  {
   "cell_type": "code",
   "execution_count": 1,
   "id": "93a32133",
   "metadata": {
    "execution": {
     "iopub.execute_input": "2025-02-27T23:47:52.415578Z",
     "iopub.status.busy": "2025-02-27T23:47:52.415154Z",
     "iopub.status.idle": "2025-02-27T23:47:53.431761Z",
     "shell.execute_reply": "2025-02-27T23:47:53.430437Z"
    },
    "papermill": {
     "duration": 1.023174,
     "end_time": "2025-02-27T23:47:53.433797",
     "exception": false,
     "start_time": "2025-02-27T23:47:52.410623",
     "status": "completed"
    },
    "tags": []
   },
   "outputs": [],
   "source": [
    "import pandas as pd\n",
    "import plotly.graph_objects as go"
   ]
  },
  {
   "cell_type": "code",
   "execution_count": 2,
   "id": "d48eb1d9",
   "metadata": {
    "execution": {
     "iopub.execute_input": "2025-02-27T23:47:53.441259Z",
     "iopub.status.busy": "2025-02-27T23:47:53.440710Z",
     "iopub.status.idle": "2025-02-27T23:47:53.448805Z",
     "shell.execute_reply": "2025-02-27T23:47:53.447621Z"
    },
    "papermill": {
     "duration": 0.013533,
     "end_time": "2025-02-27T23:47:53.450628",
     "exception": false,
     "start_time": "2025-02-27T23:47:53.437095",
     "status": "completed"
    },
    "tags": []
   },
   "outputs": [],
   "source": [
    "def plot_structure(df: pd.DataFrame, sequence_id: str) -> None:\n",
    "    sequence_df = df[df[\"sequence_id\"] == sequence_id]\n",
    "    sequence_points = sequence_df[[\"x_1\", \"y_1\", \"z_1\", \"resname\"]]\n",
    "    \n",
    "    colors = {\"A\": \"red\", \"G\": \"blue\", \"C\": \"green\", \"U\": \"orange\"}\n",
    "    fig = go.Figure()\n",
    "    \n",
    "    for resname, color in colors.items():\n",
    "        subset = sequence_df[sequence_df[\"resname\"] == resname]\n",
    "        fig.add_trace(go.Scatter3d(\n",
    "            x=subset[\"x_1\"], y=subset[\"y_1\"], z=subset[\"z_1\"],\n",
    "            mode='markers',\n",
    "            marker=dict(size=5, color=color),\n",
    "            name=resname,\n",
    "        ))\n",
    "    \n",
    "    fig.add_trace(go.Scatter3d(\n",
    "        x=sequence_df[\"x_1\"], y=sequence_df[\"y_1\"], z=sequence_df[\"z_1\"],\n",
    "        mode='lines',\n",
    "        line=dict(color='gray', width=2),\n",
    "        name='RNA Backbone'\n",
    "    ))\n",
    "    \n",
    "    fig.update_layout(\n",
    "            scene=dict(xaxis_title='X', yaxis_title='Y', zaxis_title='Z'),\n",
    "            title=f'3D RNA Structure of sequence {sequence_id}',\n",
    "        )\n",
    "            \n",
    "    fig.show(renderer=\"iframe\")"
   ]
  },
  {
   "cell_type": "code",
   "execution_count": 3,
   "id": "8450089a",
   "metadata": {
    "execution": {
     "iopub.execute_input": "2025-02-27T23:47:53.457951Z",
     "iopub.status.busy": "2025-02-27T23:47:53.457572Z",
     "iopub.status.idle": "2025-02-27T23:47:53.899825Z",
     "shell.execute_reply": "2025-02-27T23:47:53.898495Z"
    },
    "papermill": {
     "duration": 0.448364,
     "end_time": "2025-02-27T23:47:53.901921",
     "exception": false,
     "start_time": "2025-02-27T23:47:53.453557",
     "status": "completed"
    },
    "tags": []
   },
   "outputs": [],
   "source": [
    "df = pd.read_csv(\"/kaggle/input/stanford-rna-3d-folding/train_labels.csv\")\n",
    "df[\"sequence_id\"] = df[\"ID\"].apply(lambda x: \"_\".join(x.split(\"_\")[:-1]))"
   ]
  },
  {
   "cell_type": "code",
   "execution_count": 4,
   "id": "26e8bc55",
   "metadata": {
    "execution": {
     "iopub.execute_input": "2025-02-27T23:47:53.908720Z",
     "iopub.status.busy": "2025-02-27T23:47:53.908392Z",
     "iopub.status.idle": "2025-02-27T23:47:54.581097Z",
     "shell.execute_reply": "2025-02-27T23:47:54.580067Z"
    },
    "papermill": {
     "duration": 0.678325,
     "end_time": "2025-02-27T23:47:54.582997",
     "exception": false,
     "start_time": "2025-02-27T23:47:53.904672",
     "status": "completed"
    },
    "tags": []
   },
   "outputs": [
    {
     "data": {
      "text/html": [
       "<iframe\n",
       "    scrolling=\"no\"\n",
       "    width=\"100%\"\n",
       "    height=\"545px\"\n",
       "    src=\"iframe_figures/figure_4.html\"\n",
       "    frameborder=\"0\"\n",
       "    allowfullscreen\n",
       "></iframe>\n"
      ]
     },
     "metadata": {},
     "output_type": "display_data"
    }
   ],
   "source": [
    "plot_structure(df, \"1OSW_A\")"
   ]
  },
  {
   "cell_type": "code",
   "execution_count": 5,
   "id": "28033697",
   "metadata": {
    "execution": {
     "iopub.execute_input": "2025-02-27T23:47:54.590462Z",
     "iopub.status.busy": "2025-02-27T23:47:54.590049Z",
     "iopub.status.idle": "2025-02-27T23:47:54.672697Z",
     "shell.execute_reply": "2025-02-27T23:47:54.671517Z"
    },
    "papermill": {
     "duration": 0.088286,
     "end_time": "2025-02-27T23:47:54.674492",
     "exception": false,
     "start_time": "2025-02-27T23:47:54.586206",
     "status": "completed"
    },
    "tags": []
   },
   "outputs": [
    {
     "data": {
      "text/html": [
       "<iframe\n",
       "    scrolling=\"no\"\n",
       "    width=\"100%\"\n",
       "    height=\"545px\"\n",
       "    src=\"iframe_figures/figure_5.html\"\n",
       "    frameborder=\"0\"\n",
       "    allowfullscreen\n",
       "></iframe>\n"
      ]
     },
     "metadata": {},
     "output_type": "display_data"
    }
   ],
   "source": [
    "plot_structure(df, \"1A60_A\")"
   ]
  },
  {
   "cell_type": "code",
   "execution_count": 6,
   "id": "450afe3d",
   "metadata": {
    "execution": {
     "iopub.execute_input": "2025-02-27T23:47:54.681777Z",
     "iopub.status.busy": "2025-02-27T23:47:54.681438Z",
     "iopub.status.idle": "2025-02-27T23:47:54.764107Z",
     "shell.execute_reply": "2025-02-27T23:47:54.762852Z"
    },
    "papermill": {
     "duration": 0.088434,
     "end_time": "2025-02-27T23:47:54.765989",
     "exception": false,
     "start_time": "2025-02-27T23:47:54.677555",
     "status": "completed"
    },
    "tags": []
   },
   "outputs": [
    {
     "data": {
      "text/html": [
       "<iframe\n",
       "    scrolling=\"no\"\n",
       "    width=\"100%\"\n",
       "    height=\"545px\"\n",
       "    src=\"iframe_figures/figure_6.html\"\n",
       "    frameborder=\"0\"\n",
       "    allowfullscreen\n",
       "></iframe>\n"
      ]
     },
     "metadata": {},
     "output_type": "display_data"
    }
   ],
   "source": [
    "plot_structure(df, \"7QDU_Q\")"
   ]
  },
  {
   "cell_type": "code",
   "execution_count": 7,
   "id": "20405cba",
   "metadata": {
    "execution": {
     "iopub.execute_input": "2025-02-27T23:47:54.773495Z",
     "iopub.status.busy": "2025-02-27T23:47:54.773140Z",
     "iopub.status.idle": "2025-02-27T23:47:54.858553Z",
     "shell.execute_reply": "2025-02-27T23:47:54.857344Z"
    },
    "papermill": {
     "duration": 0.091247,
     "end_time": "2025-02-27T23:47:54.860432",
     "exception": false,
     "start_time": "2025-02-27T23:47:54.769185",
     "status": "completed"
    },
    "tags": []
   },
   "outputs": [
    {
     "data": {
      "text/html": [
       "<iframe\n",
       "    scrolling=\"no\"\n",
       "    width=\"100%\"\n",
       "    height=\"545px\"\n",
       "    src=\"iframe_figures/figure_7.html\"\n",
       "    frameborder=\"0\"\n",
       "    allowfullscreen\n",
       "></iframe>\n"
      ]
     },
     "metadata": {},
     "output_type": "display_data"
    }
   ],
   "source": [
    "plot_structure(df, \"8QO5_A\")"
   ]
  },
  {
   "cell_type": "code",
   "execution_count": null,
   "id": "a05398de",
   "metadata": {
    "papermill": {
     "duration": 0.002802,
     "end_time": "2025-02-27T23:47:54.866610",
     "exception": false,
     "start_time": "2025-02-27T23:47:54.863808",
     "status": "completed"
    },
    "tags": []
   },
   "outputs": [],
   "source": []
  },
  {
   "cell_type": "code",
   "execution_count": null,
   "id": "4ecbc8c4",
   "metadata": {
    "papermill": {
     "duration": 0.002737,
     "end_time": "2025-02-27T23:47:54.872445",
     "exception": false,
     "start_time": "2025-02-27T23:47:54.869708",
     "status": "completed"
    },
    "tags": []
   },
   "outputs": [],
   "source": []
  }
 ],
 "metadata": {
  "kaggle": {
   "accelerator": "none",
   "dataSources": [
    {
     "databundleVersionId": 11228175,
     "sourceId": 87793,
     "sourceType": "competition"
    }
   ],
   "dockerImageVersionId": 30918,
   "isGpuEnabled": false,
   "isInternetEnabled": true,
   "language": "python",
   "sourceType": "notebook"
  },
  "kernelspec": {
   "display_name": "Python 3",
   "language": "python",
   "name": "python3"
  },
  "language_info": {
   "codemirror_mode": {
    "name": "ipython",
    "version": 3
   },
   "file_extension": ".py",
   "mimetype": "text/x-python",
   "name": "python",
   "nbconvert_exporter": "python",
   "pygments_lexer": "ipython3",
   "version": "3.10.12"
  },
  "papermill": {
   "default_parameters": {},
   "duration": 6.022551,
   "end_time": "2025-02-27T23:47:55.496069",
   "environment_variables": {},
   "exception": null,
   "input_path": "__notebook__.ipynb",
   "output_path": "__notebook__.ipynb",
   "parameters": {},
   "start_time": "2025-02-27T23:47:49.473518",
   "version": "2.6.0"
  }
 },
 "nbformat": 4,
 "nbformat_minor": 5
}
