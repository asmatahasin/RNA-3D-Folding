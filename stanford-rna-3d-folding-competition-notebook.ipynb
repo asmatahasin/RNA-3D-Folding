{
 "cells": [
  {
   "cell_type": "markdown",
   "id": "eb38b6e3",
   "metadata": {
    "_cell_guid": "4cd7fda1-faf2-4318-8c84-a231a515b338",
    "_uuid": "ba75c96f-68e8-4eb7-8159-5d762f35366f",
    "collapsed": false,
    "jupyter": {
     "outputs_hidden": false
    },
    "papermill": {
     "duration": 0.004181,
     "end_time": "2025-02-27T19:33:40.337441",
     "exception": false,
     "start_time": "2025-02-27T19:33:40.333260",
     "status": "completed"
    },
    "tags": []
   },
   "source": [
    "# Stanford RNA 3D Folding Competition Notebook\n",
    "1. Data Exploration  \n",
    "2. Data Preprocessing  \n",
    "   - Sequence encoding  \n",
    "   - Label grouping and padding (with NaN handling)\n",
    "3. Model Building using a fast CNN architecture  \n",
    "4. Model Training with early stopping  \n",
    "5. Prediction on test set and submission file generation\n",
    "\n",
    "_Note: This notebook uses only the provided CSV files (no external internet access)._"
   ]
  },
  {
   "cell_type": "markdown",
   "id": "66be620d",
   "metadata": {
    "_cell_guid": "2e35b03c-2c0b-49fe-945d-e632cd4e7eeb",
    "_uuid": "4974e6d3-499d-4e64-ab6f-eb6b1fd4ba99",
    "collapsed": false,
    "jupyter": {
     "outputs_hidden": false
    },
    "papermill": {
     "duration": 0.003268,
     "end_time": "2025-02-27T19:33:40.344398",
     "exception": false,
     "start_time": "2025-02-27T19:33:40.341130",
     "status": "completed"
    },
    "tags": []
   },
   "source": [
    "## 1. Import Libraries"
   ]
  },
  {
   "cell_type": "code",
   "execution_count": 1,
   "id": "8b867586",
   "metadata": {
    "_cell_guid": "95be3c1b-d91d-4ff2-aeb1-16b50fa1936e",
    "_uuid": "1c8a6414-5cce-4cf9-82dc-74c2b1937448",
    "collapsed": false,
    "execution": {
     "iopub.execute_input": "2025-02-27T19:33:40.352251Z",
     "iopub.status.busy": "2025-02-27T19:33:40.351932Z",
     "iopub.status.idle": "2025-02-27T19:33:53.117480Z",
     "shell.execute_reply": "2025-02-27T19:33:53.116739Z"
    },
    "jupyter": {
     "outputs_hidden": false
    },
    "papermill": {
     "duration": 12.771101,
     "end_time": "2025-02-27T19:33:53.118994",
     "exception": false,
     "start_time": "2025-02-27T19:33:40.347893",
     "status": "completed"
    },
    "tags": []
   },
   "outputs": [],
   "source": [
    "import os\n",
    "import numpy as np\n",
    "import pandas as pd\n",
    "import matplotlib.pyplot as plt\n",
    "import seaborn as sns\n",
    "\n",
    "# TensorFlow/Keras for deep learning model\n",
    "import tensorflow as tf\n",
    "from tensorflow.keras.models import Model\n",
    "from tensorflow.keras.layers import Input, Embedding, Conv1D, BatchNormalization, Dropout\n",
    "from tensorflow.keras.preprocessing.sequence import pad_sequences\n",
    "from tensorflow.keras.callbacks import EarlyStopping\n",
    "\n",
    "# Set random seed for reproducibility\n",
    "np.random.seed(42)\n",
    "tf.random.set_seed(42)"
   ]
  },
  {
   "cell_type": "markdown",
   "id": "7994514b",
   "metadata": {
    "_cell_guid": "08036a25-432d-4eca-bbfe-961e87c3f83a",
    "_uuid": "7d1c7eed-82d4-46ea-859c-d7a7490d9852",
    "collapsed": false,
    "jupyter": {
     "outputs_hidden": false
    },
    "papermill": {
     "duration": 0.003537,
     "end_time": "2025-02-27T19:33:53.126504",
     "exception": false,
     "start_time": "2025-02-27T19:33:53.122967",
     "status": "completed"
    },
    "tags": []
   },
   "source": [
    "## 2. Data Loading and Exploration\n",
    "\n",
    "We load the CSV files provided:\n",
    "- `train_sequences.csv`\n",
    "- `train_labels.csv`\n",
    "- `validation_sequences.csv` & `validation_labels.csv`\n",
    "- `test_sequences.csv`\n",
    "- `sample_submission.csv`\n",
    "\n",
    "**Important:** We fill missing values in the labels data with 0 to avoid NaN issues during training."
   ]
  },
  {
   "cell_type": "code",
   "execution_count": 2,
   "id": "4522df65",
   "metadata": {
    "_cell_guid": "9f130e5f-7f0d-424f-8634-f304c96c9437",
    "_uuid": "bd1b8c77-f907-4a3b-af02-5141a285d2ac",
    "collapsed": false,
    "execution": {
     "iopub.execute_input": "2025-02-27T19:33:53.134531Z",
     "iopub.status.busy": "2025-02-27T19:33:53.134052Z",
     "iopub.status.idle": "2025-02-27T19:33:53.575055Z",
     "shell.execute_reply": "2025-02-27T19:33:53.574040Z"
    },
    "jupyter": {
     "outputs_hidden": false
    },
    "papermill": {
     "duration": 0.446553,
     "end_time": "2025-02-27T19:33:53.576540",
     "exception": false,
     "start_time": "2025-02-27T19:33:53.129987",
     "status": "completed"
    },
    "tags": []
   },
   "outputs": [
    {
     "name": "stdout",
     "output_type": "stream",
     "text": [
      "Train Sequences Shape: (844, 5)\n",
      "Train Labels Shape: (137095, 6)\n",
      "Validation Sequences Shape: (12, 5)\n",
      "Validation Labels Shape: (2515, 123)\n",
      "Test Sequences Shape: (12, 5)\n",
      "\n",
      "Train Sequences Head:\n",
      "  target_id                            sequence temporal_cutoff  \\\n",
      "0    1SCL_A       GGGUGCUCAGUACGAGAGGAACCGCACCC      1995-01-26   \n",
      "1    1RNK_A  GGCGCAGUGGGCUAGCGCCACUCAAAAGGCCCAU      1995-02-27   \n",
      "2    1RHT_A            GGGACUGACGAUCACGCAGUCUAU      1995-06-03   \n",
      "3    1HLX_A                GGGAUAACUUCGGUUGUCCC      1995-09-15   \n",
      "4    1HMH_E  GGCGACCCUGAUGAGGCCGAAAGGCCGAAACCGU      1995-12-07   \n",
      "\n",
      "                                         description  \\\n",
      "0               THE SARCIN-RICIN LOOP, A MODULAR RNA   \n",
      "1  THE STRUCTURE OF AN RNA PSEUDOKNOT THAT CAUSES...   \n",
      "2  24-MER RNA HAIRPIN COAT PROTEIN BINDING SITE F...   \n",
      "3  P1 HELIX NUCLEIC ACIDS (DNA/RNA) RIBONUCLEIC ACID   \n",
      "4  THREE-DIMENSIONAL STRUCTURE OF A HAMMERHEAD RI...   \n",
      "\n",
      "                                       all_sequences  \n",
      "0  >1SCL_1|Chain A|RNA SARCIN-RICIN LOOP|Rattus n...  \n",
      "1  >1RNK_1|Chain A|RNA PSEUDOKNOT|null\\nGGCGCAGUG...  \n",
      "2  >1RHT_1|Chain A|RNA (5'-R(P*GP*GP*GP*AP*CP*UP*...  \n",
      "3  >1HLX_1|Chain A|RNA (5'-R(*GP*GP*GP*AP*UP*AP*A...  \n",
      "4  >1HMH_1|Chains A, C, E|HAMMERHEAD RIBOZYME-RNA...  \n",
      "\n",
      "Train Labels Head:\n",
      "         ID resname  resid     x_1        y_1     z_1\n",
      "0  1SCL_A_1       G      1  13.760 -25.974001   0.102\n",
      "1  1SCL_A_2       G      2   9.310 -29.638000   2.669\n",
      "2  1SCL_A_3       G      3   5.529 -27.813000   5.878\n",
      "3  1SCL_A_4       U      4   2.678 -24.900999   9.793\n",
      "4  1SCL_A_5       G      5   1.827 -20.136000  11.793\n"
     ]
    }
   ],
   "source": [
    "# Define file paths (Kaggle input paths)\n",
    "TRAIN_SEQ_PATH = '/kaggle/input/stanford-rna-3d-folding/train_sequences.csv'\n",
    "TRAIN_LABELS_PATH = '/kaggle/input/stanford-rna-3d-folding/train_labels.csv'\n",
    "VALID_SEQ_PATH = '/kaggle/input/stanford-rna-3d-folding/validation_sequences.csv'\n",
    "VALID_LABELS_PATH = '/kaggle/input/stanford-rna-3d-folding/validation_labels.csv'\n",
    "TEST_SEQ_PATH  = '/kaggle/input/stanford-rna-3d-folding/test_sequences.csv'\n",
    "SAMPLE_SUB_PATH = '/kaggle/input/stanford-rna-3d-folding/sample_submission.csv'\n",
    "\n",
    "# Load CSV files\n",
    "train_sequences = pd.read_csv(TRAIN_SEQ_PATH)\n",
    "train_labels = pd.read_csv(TRAIN_LABELS_PATH)\n",
    "valid_sequences = pd.read_csv(VALID_SEQ_PATH)\n",
    "valid_labels = pd.read_csv(VALID_LABELS_PATH)\n",
    "test_sequences = pd.read_csv(TEST_SEQ_PATH)\n",
    "sample_submission = pd.read_csv(SAMPLE_SUB_PATH)\n",
    "\n",
    "# Fill missing values in labels with 0\n",
    "train_labels.fillna(0, inplace=True)\n",
    "valid_labels.fillna(0, inplace=True)\n",
    "\n",
    "# Display basic info\n",
    "print(\"Train Sequences Shape:\", train_sequences.shape)\n",
    "print(\"Train Labels Shape:\", train_labels.shape)\n",
    "print(\"Validation Sequences Shape:\", valid_sequences.shape)\n",
    "print(\"Validation Labels Shape:\", valid_labels.shape)\n",
    "print(\"Test Sequences Shape:\", test_sequences.shape)\n",
    "\n",
    "# Look at a few examples\n",
    "print(\"\\nTrain Sequences Head:\")\n",
    "print(train_sequences.head())\n",
    "print(\"\\nTrain Labels Head:\")\n",
    "print(train_labels.head())"
   ]
  },
  {
   "cell_type": "markdown",
   "id": "3bff5e60",
   "metadata": {
    "_cell_guid": "f84ddf2c-b665-420f-a7ec-43cfe711c0a4",
    "_uuid": "7b3ae69d-4427-4c9f-931e-9ea1176f5886",
    "collapsed": false,
    "jupyter": {
     "outputs_hidden": false
    },
    "papermill": {
     "duration": 0.003441,
     "end_time": "2025-02-27T19:33:53.584092",
     "exception": false,
     "start_time": "2025-02-27T19:33:53.580651",
     "status": "completed"
    },
    "tags": []
   },
   "source": [
    "## 3. Data Preprocessing\n",
    "\n",
    "### 3.1 Sequence Encoding\n",
    "\n",
    "We map each nucleotide to an integer:\n",
    "- A: 1, C: 2, G: 3, U: 4  \n",
    "Unknown characters are mapped to 0."
   ]
  },
  {
   "cell_type": "code",
   "execution_count": 3,
   "id": "d4bfba90",
   "metadata": {
    "_cell_guid": "3c95facf-6580-4e0d-bf92-9cfb9539a551",
    "_uuid": "2f38e291-5974-4c43-93a0-fb024c343ba0",
    "collapsed": false,
    "execution": {
     "iopub.execute_input": "2025-02-27T19:33:53.592082Z",
     "iopub.status.busy": "2025-02-27T19:33:53.591851Z",
     "iopub.status.idle": "2025-02-27T19:33:53.610602Z",
     "shell.execute_reply": "2025-02-27T19:33:53.609990Z"
    },
    "jupyter": {
     "outputs_hidden": false
    },
    "papermill": {
     "duration": 0.024011,
     "end_time": "2025-02-27T19:33:53.611679",
     "exception": false,
     "start_time": "2025-02-27T19:33:53.587668",
     "status": "completed"
    },
    "tags": []
   },
   "outputs": [],
   "source": [
    "nucleotide_map = {'A': 1, 'C': 2, 'G': 3, 'U': 4}\n",
    "\n",
    "def encode_sequence(seq):\n",
    "    \"\"\"Encodes a RNA sequence into a list of integers based on nucleotide_map.\"\"\"\n",
    "    return [nucleotide_map.get(ch, 0) for ch in seq]\n",
    "\n",
    "# Apply encoding to all sequence files\n",
    "train_sequences['encoded'] = train_sequences['sequence'].apply(encode_sequence)\n",
    "valid_sequences['encoded'] = valid_sequences['sequence'].apply(encode_sequence)\n",
    "test_sequences['encoded'] = test_sequences['sequence'].apply(encode_sequence)"
   ]
  },
  {
   "cell_type": "markdown",
   "id": "79590a62",
   "metadata": {
    "_cell_guid": "c3189e08-66bf-4548-8f33-3422b765f88c",
    "_uuid": "fbc2c63d-cb94-493c-9d4f-e0cf078d07c1",
    "collapsed": false,
    "jupyter": {
     "outputs_hidden": false
    },
    "papermill": {
     "duration": 0.003783,
     "end_time": "2025-02-27T19:33:53.619120",
     "exception": false,
     "start_time": "2025-02-27T19:33:53.615337",
     "status": "completed"
    },
    "tags": []
   },
   "source": [
    "### 3.2 Processing Label Data\n",
    "\n",
    "Each row in the labels CSV is for one residue, with an `ID` formatted as `target_id_resid`.\n",
    "We group rows by `target_id` and sort by residue number.\n",
    "Here, we use the first structure (x_1, y_1, z_1) as our target coordinates."
   ]
  },
  {
   "cell_type": "code",
   "execution_count": 4,
   "id": "00515b0c",
   "metadata": {
    "_cell_guid": "afbd9f74-c685-4e0a-9262-005656f79ca9",
    "_uuid": "1d94dbc2-d120-4c82-9d70-711e6b4a68c1",
    "collapsed": false,
    "execution": {
     "iopub.execute_input": "2025-02-27T19:33:53.627692Z",
     "iopub.status.busy": "2025-02-27T19:33:53.627461Z",
     "iopub.status.idle": "2025-02-27T19:34:00.513713Z",
     "shell.execute_reply": "2025-02-27T19:34:00.512769Z"
    },
    "jupyter": {
     "outputs_hidden": false
    },
    "papermill": {
     "duration": 6.892465,
     "end_time": "2025-02-27T19:34:00.515299",
     "exception": false,
     "start_time": "2025-02-27T19:33:53.622834",
     "status": "completed"
    },
    "tags": []
   },
   "outputs": [],
   "source": [
    "def process_labels(labels_df):\n",
    "    \"\"\"\n",
    "    Processes a labels DataFrame by grouping rows by target_id.\n",
    "    Returns a dictionary mapping target_id to an array of coordinates (seq_len, 3).\n",
    "    \"\"\"\n",
    "    label_dict = {}\n",
    "    for idx, row in labels_df.iterrows():\n",
    "        # Split ID into target_id and residue number (assumes format \"targetid_resid\")\n",
    "        parts = row['ID'].split('_')\n",
    "        target_id = \"_\".join(parts[:-1])\n",
    "        resid = int(parts[-1])\n",
    "        # Extract the coordinates; they should be numeric (missing values already set to 0)\n",
    "        coord = np.array([row['x_1'], row['y_1'], row['z_1']], dtype=np.float32)\n",
    "        if target_id not in label_dict:\n",
    "            label_dict[target_id] = []\n",
    "        label_dict[target_id].append((resid, coord))\n",
    "    \n",
    "    # Sort residues by resid and stack coordinates\n",
    "    for key in label_dict:\n",
    "        sorted_coords = sorted(label_dict[key], key=lambda x: x[0])\n",
    "        coords = np.stack([c for r, c in sorted_coords])\n",
    "        label_dict[key] = coords\n",
    "    return label_dict\n",
    "\n",
    "# Process training and validation labels\n",
    "train_labels_dict = process_labels(train_labels)\n",
    "valid_labels_dict = process_labels(valid_labels)"
   ]
  },
  {
   "cell_type": "markdown",
   "id": "60b7d53c",
   "metadata": {
    "_cell_guid": "1508c42f-9b88-4934-be7d-c75fcc36195c",
    "_uuid": "acfc3ec8-97ac-44cf-a2dc-d1a721b1c8d8",
    "collapsed": false,
    "jupyter": {
     "outputs_hidden": false
    },
    "papermill": {
     "duration": 0.003588,
     "end_time": "2025-02-27T19:34:00.522938",
     "exception": false,
     "start_time": "2025-02-27T19:34:00.519350",
     "status": "completed"
    },
    "tags": []
   },
   "source": [
    "### 3.3 Creating Datasets and Padding\n",
    "\n",
    "We match each target sequence with its corresponding coordinate labels.\n",
    "Then we pad sequences and coordinate arrays to a uniform length.\n",
    "\n",
    "Padded positions in coordinates are set to 0."
   ]
  },
  {
   "cell_type": "code",
   "execution_count": 5,
   "id": "63256a80",
   "metadata": {
    "_cell_guid": "be76be8c-682f-418d-94d0-4f6bb519b344",
    "_uuid": "f00ec075-2695-461e-a423-b8b251c43acd",
    "collapsed": false,
    "execution": {
     "iopub.execute_input": "2025-02-27T19:34:00.531281Z",
     "iopub.status.busy": "2025-02-27T19:34:00.530993Z",
     "iopub.status.idle": "2025-02-27T19:34:00.676747Z",
     "shell.execute_reply": "2025-02-27T19:34:00.675774Z"
    },
    "jupyter": {
     "outputs_hidden": false
    },
    "papermill": {
     "duration": 0.151603,
     "end_time": "2025-02-27T19:34:00.678153",
     "exception": false,
     "start_time": "2025-02-27T19:34:00.526550",
     "status": "completed"
    },
    "tags": []
   },
   "outputs": [
    {
     "name": "stdout",
     "output_type": "stream",
     "text": [
      "Maximum sequence length (train): 4298\n",
      "Any NaN in y_train_pad? False\n",
      "Any NaN in y_valid_pad? False\n",
      "X_train_pad shape: (844, 4298)\n",
      "y_train_pad shape: (844, 4298, 3)\n"
     ]
    }
   ],
   "source": [
    "def create_dataset(sequences_df, labels_dict):\n",
    "    \"\"\"\n",
    "    Creates a dataset from a sequences DataFrame and a labels dictionary.\n",
    "    Returns:\n",
    "        X: list of encoded sequences,\n",
    "        y: list of coordinate arrays,\n",
    "        target_ids: list of target ids.\n",
    "    \"\"\"\n",
    "    X, y, target_ids = [], [], []\n",
    "    for idx, row in sequences_df.iterrows():\n",
    "        tid = row['target_id']\n",
    "        if tid in labels_dict:\n",
    "            X.append(row['encoded'])\n",
    "            y.append(labels_dict[tid])\n",
    "            target_ids.append(tid)\n",
    "    return X, y, target_ids\n",
    "\n",
    "# Create training and validation datasets\n",
    "X_train, y_train, train_ids = create_dataset(train_sequences, train_labels_dict)\n",
    "X_valid, y_valid, valid_ids = create_dataset(valid_sequences, valid_labels_dict)\n",
    "\n",
    "# Determine maximum sequence length from training set\n",
    "max_len = max(len(seq) for seq in X_train)\n",
    "print(\"Maximum sequence length (train):\", max_len)\n",
    "\n",
    "# Pad the sequences (padding value = 0)\n",
    "X_train_pad = pad_sequences(X_train, maxlen=max_len, padding='post', value=0)\n",
    "X_valid_pad = pad_sequences(X_valid, maxlen=max_len, padding='post', value=0)\n",
    "\n",
    "# Function to pad coordinate arrays\n",
    "def pad_coordinates(coord_array, max_len):\n",
    "    L = coord_array.shape[0]\n",
    "    if L < max_len:\n",
    "        pad_width = ((0, max_len - L), (0, 0))\n",
    "        return np.pad(coord_array, pad_width, mode='constant', constant_values=0)\n",
    "    else:\n",
    "        return coord_array\n",
    "\n",
    "# Pad coordinate arrays\n",
    "y_train_pad = np.array([pad_coordinates(arr, max_len) for arr in y_train])\n",
    "y_valid_pad = np.array([pad_coordinates(arr, max_len) for arr in y_valid])\n",
    "\n",
    "# Check for any NaN values in the targets\n",
    "print(\"Any NaN in y_train_pad?\", np.isnan(y_train_pad).any())\n",
    "print(\"Any NaN in y_valid_pad?\", np.isnan(y_valid_pad).any())\n",
    "\n",
    "print(\"X_train_pad shape:\", X_train_pad.shape)\n",
    "print(\"y_train_pad shape:\", y_train_pad.shape)"
   ]
  },
  {
   "cell_type": "markdown",
   "id": "83a88eb4",
   "metadata": {
    "_cell_guid": "9616835f-b774-4de4-bb7d-99fffe07dc65",
    "_uuid": "8d832ed7-a808-47b1-9bd1-4ca8aa72b337",
    "collapsed": false,
    "jupyter": {
     "outputs_hidden": false
    },
    "papermill": {
     "duration": 0.003713,
     "end_time": "2025-02-27T19:34:00.685870",
     "exception": false,
     "start_time": "2025-02-27T19:34:00.682157",
     "status": "completed"
    },
    "tags": []
   },
   "source": [
    "## 4. Fast CNN Model Training\n",
    "\n",
    "In this section, we build a faster CNN-based model.\n",
    "The model uses:\n",
    "- An Embedding layer  \n",
    "- Two Conv1D blocks (with BatchNormalization and Dropout)  \n",
    "- A final Conv1D layer (kernel size 1) to output 3 coordinates per residue"
   ]
  },
  {
   "cell_type": "code",
   "execution_count": 6,
   "id": "4ea3c5d0",
   "metadata": {
    "_cell_guid": "eb0e2b5f-347a-45b9-a475-a2a4108dd9f1",
    "_uuid": "b5b77c10-dad8-4527-8f28-174c04afefe2",
    "collapsed": false,
    "execution": {
     "iopub.execute_input": "2025-02-27T19:34:00.694085Z",
     "iopub.status.busy": "2025-02-27T19:34:00.693847Z",
     "iopub.status.idle": "2025-02-27T19:34:03.026998Z",
     "shell.execute_reply": "2025-02-27T19:34:03.026096Z"
    },
    "jupyter": {
     "outputs_hidden": false
    },
    "papermill": {
     "duration": 2.338668,
     "end_time": "2025-02-27T19:34:03.028302",
     "exception": false,
     "start_time": "2025-02-27T19:34:00.689634",
     "status": "completed"
    },
    "tags": []
   },
   "outputs": [
    {
     "name": "stderr",
     "output_type": "stream",
     "text": [
      "/usr/local/lib/python3.10/dist-packages/keras/src/layers/layer.py:934: UserWarning: Layer 'conv1' (of type Conv1D) was passed an input with a mask attached to it. However, this layer does not support masking and will therefore destroy the mask information. Downstream layers will not see the mask.\n",
      "  warnings.warn(\n"
     ]
    },
    {
     "data": {
      "text/html": [
       "<pre style=\"white-space:pre;overflow-x:auto;line-height:normal;font-family:Menlo,'DejaVu Sans Mono',consolas,'Courier New',monospace\"><span style=\"font-weight: bold\">Model: \"functional\"</span>\n",
       "</pre>\n"
      ],
      "text/plain": [
       "\u001b[1mModel: \"functional\"\u001b[0m\n"
      ]
     },
     "metadata": {},
     "output_type": "display_data"
    },
    {
     "data": {
      "text/html": [
       "<pre style=\"white-space:pre;overflow-x:auto;line-height:normal;font-family:Menlo,'DejaVu Sans Mono',consolas,'Courier New',monospace\">┏━━━━━━━━━━━━━━━━━━━━━━━━━━━━━━━━━━━━━━┳━━━━━━━━━━━━━━━━━━━━━━━━━━━━━┳━━━━━━━━━━━━━━━━━┓\n",
       "┃<span style=\"font-weight: bold\"> Layer (type)                         </span>┃<span style=\"font-weight: bold\"> Output Shape                </span>┃<span style=\"font-weight: bold\">         Param # </span>┃\n",
       "┡━━━━━━━━━━━━━━━━━━━━━━━━━━━━━━━━━━━━━━╇━━━━━━━━━━━━━━━━━━━━━━━━━━━━━╇━━━━━━━━━━━━━━━━━┩\n",
       "│ input_seq (<span style=\"color: #0087ff; text-decoration-color: #0087ff\">InputLayer</span>)               │ (<span style=\"color: #00d7ff; text-decoration-color: #00d7ff\">None</span>, <span style=\"color: #00af00; text-decoration-color: #00af00\">4298</span>)                │               <span style=\"color: #00af00; text-decoration-color: #00af00\">0</span> │\n",
       "├──────────────────────────────────────┼─────────────────────────────┼─────────────────┤\n",
       "│ embedding (<span style=\"color: #0087ff; text-decoration-color: #0087ff\">Embedding</span>)                │ (<span style=\"color: #00d7ff; text-decoration-color: #00d7ff\">None</span>, <span style=\"color: #00af00; text-decoration-color: #00af00\">4298</span>, <span style=\"color: #00af00; text-decoration-color: #00af00\">16</span>)            │              <span style=\"color: #00af00; text-decoration-color: #00af00\">80</span> │\n",
       "├──────────────────────────────────────┼─────────────────────────────┼─────────────────┤\n",
       "│ conv1 (<span style=\"color: #0087ff; text-decoration-color: #0087ff\">Conv1D</span>)                       │ (<span style=\"color: #00d7ff; text-decoration-color: #00d7ff\">None</span>, <span style=\"color: #00af00; text-decoration-color: #00af00\">4298</span>, <span style=\"color: #00af00; text-decoration-color: #00af00\">64</span>)            │           <span style=\"color: #00af00; text-decoration-color: #00af00\">3,136</span> │\n",
       "├──────────────────────────────────────┼─────────────────────────────┼─────────────────┤\n",
       "│ bn1 (<span style=\"color: #0087ff; text-decoration-color: #0087ff\">BatchNormalization</span>)             │ (<span style=\"color: #00d7ff; text-decoration-color: #00d7ff\">None</span>, <span style=\"color: #00af00; text-decoration-color: #00af00\">4298</span>, <span style=\"color: #00af00; text-decoration-color: #00af00\">64</span>)            │             <span style=\"color: #00af00; text-decoration-color: #00af00\">256</span> │\n",
       "├──────────────────────────────────────┼─────────────────────────────┼─────────────────┤\n",
       "│ drop1 (<span style=\"color: #0087ff; text-decoration-color: #0087ff\">Dropout</span>)                      │ (<span style=\"color: #00d7ff; text-decoration-color: #00d7ff\">None</span>, <span style=\"color: #00af00; text-decoration-color: #00af00\">4298</span>, <span style=\"color: #00af00; text-decoration-color: #00af00\">64</span>)            │               <span style=\"color: #00af00; text-decoration-color: #00af00\">0</span> │\n",
       "├──────────────────────────────────────┼─────────────────────────────┼─────────────────┤\n",
       "│ conv2 (<span style=\"color: #0087ff; text-decoration-color: #0087ff\">Conv1D</span>)                       │ (<span style=\"color: #00d7ff; text-decoration-color: #00d7ff\">None</span>, <span style=\"color: #00af00; text-decoration-color: #00af00\">4298</span>, <span style=\"color: #00af00; text-decoration-color: #00af00\">64</span>)            │          <span style=\"color: #00af00; text-decoration-color: #00af00\">12,352</span> │\n",
       "├──────────────────────────────────────┼─────────────────────────────┼─────────────────┤\n",
       "│ bn2 (<span style=\"color: #0087ff; text-decoration-color: #0087ff\">BatchNormalization</span>)             │ (<span style=\"color: #00d7ff; text-decoration-color: #00d7ff\">None</span>, <span style=\"color: #00af00; text-decoration-color: #00af00\">4298</span>, <span style=\"color: #00af00; text-decoration-color: #00af00\">64</span>)            │             <span style=\"color: #00af00; text-decoration-color: #00af00\">256</span> │\n",
       "├──────────────────────────────────────┼─────────────────────────────┼─────────────────┤\n",
       "│ drop2 (<span style=\"color: #0087ff; text-decoration-color: #0087ff\">Dropout</span>)                      │ (<span style=\"color: #00d7ff; text-decoration-color: #00d7ff\">None</span>, <span style=\"color: #00af00; text-decoration-color: #00af00\">4298</span>, <span style=\"color: #00af00; text-decoration-color: #00af00\">64</span>)            │               <span style=\"color: #00af00; text-decoration-color: #00af00\">0</span> │\n",
       "├──────────────────────────────────────┼─────────────────────────────┼─────────────────┤\n",
       "│ predicted_coords (<span style=\"color: #0087ff; text-decoration-color: #0087ff\">Conv1D</span>)            │ (<span style=\"color: #00d7ff; text-decoration-color: #00d7ff\">None</span>, <span style=\"color: #00af00; text-decoration-color: #00af00\">4298</span>, <span style=\"color: #00af00; text-decoration-color: #00af00\">3</span>)             │             <span style=\"color: #00af00; text-decoration-color: #00af00\">195</span> │\n",
       "└──────────────────────────────────────┴─────────────────────────────┴─────────────────┘\n",
       "</pre>\n"
      ],
      "text/plain": [
       "┏━━━━━━━━━━━━━━━━━━━━━━━━━━━━━━━━━━━━━━┳━━━━━━━━━━━━━━━━━━━━━━━━━━━━━┳━━━━━━━━━━━━━━━━━┓\n",
       "┃\u001b[1m \u001b[0m\u001b[1mLayer (type)                        \u001b[0m\u001b[1m \u001b[0m┃\u001b[1m \u001b[0m\u001b[1mOutput Shape               \u001b[0m\u001b[1m \u001b[0m┃\u001b[1m \u001b[0m\u001b[1m        Param #\u001b[0m\u001b[1m \u001b[0m┃\n",
       "┡━━━━━━━━━━━━━━━━━━━━━━━━━━━━━━━━━━━━━━╇━━━━━━━━━━━━━━━━━━━━━━━━━━━━━╇━━━━━━━━━━━━━━━━━┩\n",
       "│ input_seq (\u001b[38;5;33mInputLayer\u001b[0m)               │ (\u001b[38;5;45mNone\u001b[0m, \u001b[38;5;34m4298\u001b[0m)                │               \u001b[38;5;34m0\u001b[0m │\n",
       "├──────────────────────────────────────┼─────────────────────────────┼─────────────────┤\n",
       "│ embedding (\u001b[38;5;33mEmbedding\u001b[0m)                │ (\u001b[38;5;45mNone\u001b[0m, \u001b[38;5;34m4298\u001b[0m, \u001b[38;5;34m16\u001b[0m)            │              \u001b[38;5;34m80\u001b[0m │\n",
       "├──────────────────────────────────────┼─────────────────────────────┼─────────────────┤\n",
       "│ conv1 (\u001b[38;5;33mConv1D\u001b[0m)                       │ (\u001b[38;5;45mNone\u001b[0m, \u001b[38;5;34m4298\u001b[0m, \u001b[38;5;34m64\u001b[0m)            │           \u001b[38;5;34m3,136\u001b[0m │\n",
       "├──────────────────────────────────────┼─────────────────────────────┼─────────────────┤\n",
       "│ bn1 (\u001b[38;5;33mBatchNormalization\u001b[0m)             │ (\u001b[38;5;45mNone\u001b[0m, \u001b[38;5;34m4298\u001b[0m, \u001b[38;5;34m64\u001b[0m)            │             \u001b[38;5;34m256\u001b[0m │\n",
       "├──────────────────────────────────────┼─────────────────────────────┼─────────────────┤\n",
       "│ drop1 (\u001b[38;5;33mDropout\u001b[0m)                      │ (\u001b[38;5;45mNone\u001b[0m, \u001b[38;5;34m4298\u001b[0m, \u001b[38;5;34m64\u001b[0m)            │               \u001b[38;5;34m0\u001b[0m │\n",
       "├──────────────────────────────────────┼─────────────────────────────┼─────────────────┤\n",
       "│ conv2 (\u001b[38;5;33mConv1D\u001b[0m)                       │ (\u001b[38;5;45mNone\u001b[0m, \u001b[38;5;34m4298\u001b[0m, \u001b[38;5;34m64\u001b[0m)            │          \u001b[38;5;34m12,352\u001b[0m │\n",
       "├──────────────────────────────────────┼─────────────────────────────┼─────────────────┤\n",
       "│ bn2 (\u001b[38;5;33mBatchNormalization\u001b[0m)             │ (\u001b[38;5;45mNone\u001b[0m, \u001b[38;5;34m4298\u001b[0m, \u001b[38;5;34m64\u001b[0m)            │             \u001b[38;5;34m256\u001b[0m │\n",
       "├──────────────────────────────────────┼─────────────────────────────┼─────────────────┤\n",
       "│ drop2 (\u001b[38;5;33mDropout\u001b[0m)                      │ (\u001b[38;5;45mNone\u001b[0m, \u001b[38;5;34m4298\u001b[0m, \u001b[38;5;34m64\u001b[0m)            │               \u001b[38;5;34m0\u001b[0m │\n",
       "├──────────────────────────────────────┼─────────────────────────────┼─────────────────┤\n",
       "│ predicted_coords (\u001b[38;5;33mConv1D\u001b[0m)            │ (\u001b[38;5;45mNone\u001b[0m, \u001b[38;5;34m4298\u001b[0m, \u001b[38;5;34m3\u001b[0m)             │             \u001b[38;5;34m195\u001b[0m │\n",
       "└──────────────────────────────────────┴─────────────────────────────┴─────────────────┘\n"
      ]
     },
     "metadata": {},
     "output_type": "display_data"
    },
    {
     "data": {
      "text/html": [
       "<pre style=\"white-space:pre;overflow-x:auto;line-height:normal;font-family:Menlo,'DejaVu Sans Mono',consolas,'Courier New',monospace\"><span style=\"font-weight: bold\"> Total params: </span><span style=\"color: #00af00; text-decoration-color: #00af00\">16,275</span> (63.57 KB)\n",
       "</pre>\n"
      ],
      "text/plain": [
       "\u001b[1m Total params: \u001b[0m\u001b[38;5;34m16,275\u001b[0m (63.57 KB)\n"
      ]
     },
     "metadata": {},
     "output_type": "display_data"
    },
    {
     "data": {
      "text/html": [
       "<pre style=\"white-space:pre;overflow-x:auto;line-height:normal;font-family:Menlo,'DejaVu Sans Mono',consolas,'Courier New',monospace\"><span style=\"font-weight: bold\"> Trainable params: </span><span style=\"color: #00af00; text-decoration-color: #00af00\">16,019</span> (62.57 KB)\n",
       "</pre>\n"
      ],
      "text/plain": [
       "\u001b[1m Trainable params: \u001b[0m\u001b[38;5;34m16,019\u001b[0m (62.57 KB)\n"
      ]
     },
     "metadata": {},
     "output_type": "display_data"
    },
    {
     "data": {
      "text/html": [
       "<pre style=\"white-space:pre;overflow-x:auto;line-height:normal;font-family:Menlo,'DejaVu Sans Mono',consolas,'Courier New',monospace\"><span style=\"font-weight: bold\"> Non-trainable params: </span><span style=\"color: #00af00; text-decoration-color: #00af00\">256</span> (1.00 KB)\n",
       "</pre>\n"
      ],
      "text/plain": [
       "\u001b[1m Non-trainable params: \u001b[0m\u001b[38;5;34m256\u001b[0m (1.00 KB)\n"
      ]
     },
     "metadata": {},
     "output_type": "display_data"
    }
   ],
   "source": [
    "# Define hyperparameters for the CNN model\n",
    "vocab_size = max(nucleotide_map.values()) + 1  # +1 for padding token 0\n",
    "embedding_dim = 16\n",
    "num_filters = 64\n",
    "kernel_size = 3\n",
    "drop_rate = 0.2\n",
    "\n",
    "# Build the CNN model\n",
    "input_seq_cnn = Input(shape=(max_len,), name='input_seq')\n",
    "x_cnn = Embedding(input_dim=vocab_size, output_dim=embedding_dim, mask_zero=True, name='embedding')(input_seq_cnn)\n",
    "\n",
    "# First convolutional block\n",
    "x_cnn = Conv1D(filters=num_filters, kernel_size=kernel_size, padding='same', activation='relu', name='conv1')(x_cnn)\n",
    "x_cnn = BatchNormalization(name='bn1')(x_cnn)\n",
    "x_cnn = Dropout(drop_rate, name='drop1')(x_cnn)\n",
    "\n",
    "# Second convolutional block\n",
    "x_cnn = Conv1D(filters=num_filters, kernel_size=kernel_size, padding='same', activation='relu', name='conv2')(x_cnn)\n",
    "x_cnn = BatchNormalization(name='bn2')(x_cnn)\n",
    "x_cnn = Dropout(drop_rate, name='drop2')(x_cnn)\n",
    "\n",
    "# Final convolution to output 3 coordinates per residue (x, y, z)\n",
    "output_coords_cnn = Conv1D(filters=3, kernel_size=1, padding='same', activation='linear', name='predicted_coords')(x_cnn)\n",
    "\n",
    "cnn_model = Model(inputs=input_seq_cnn, outputs=output_coords_cnn)\n",
    "cnn_model.compile(optimizer='adam', loss='mse')\n",
    "\n",
    "cnn_model.summary()"
   ]
  },
  {
   "cell_type": "markdown",
   "id": "8c87e55e",
   "metadata": {
    "_cell_guid": "7744df17-746a-438d-82eb-3fda8874d03c",
    "_uuid": "93c354e3-05d7-4632-89cb-b9c843c37977",
    "collapsed": false,
    "jupyter": {
     "outputs_hidden": false
    },
    "papermill": {
     "duration": 0.00431,
     "end_time": "2025-02-27T19:34:03.037325",
     "exception": false,
     "start_time": "2025-02-27T19:34:03.033015",
     "status": "completed"
    },
    "tags": []
   },
   "source": [
    "## 5. Model Training\n",
    "\n",
    "We train the CNN model using early stopping to monitor the validation loss.\n",
    "With the NaN issues addressed in the data, training should proceed without nan losses."
   ]
  },
  {
   "cell_type": "code",
   "execution_count": 7,
   "id": "81c8b0c9",
   "metadata": {
    "_cell_guid": "fbd23461-6579-49ed-adba-4c414b97a74b",
    "_uuid": "8b6e7d19-9670-4f06-9995-61f156f5588e",
    "collapsed": false,
    "execution": {
     "iopub.execute_input": "2025-02-27T19:34:03.046861Z",
     "iopub.status.busy": "2025-02-27T19:34:03.046644Z",
     "iopub.status.idle": "2025-02-27T19:34:14.902338Z",
     "shell.execute_reply": "2025-02-27T19:34:14.901562Z"
    },
    "jupyter": {
     "outputs_hidden": false
    },
    "papermill": {
     "duration": 11.862086,
     "end_time": "2025-02-27T19:34:14.903729",
     "exception": false,
     "start_time": "2025-02-27T19:34:03.041643",
     "status": "completed"
    },
    "tags": []
   },
   "outputs": [
    {
     "name": "stdout",
     "output_type": "stream",
     "text": [
      "Epoch 1/50\n",
      "\u001b[1m53/53\u001b[0m \u001b[32m━━━━━━━━━━━━━━━━━━━━\u001b[0m\u001b[37m\u001b[0m \u001b[1m9s\u001b[0m 71ms/step - loss: 708.7315 - val_loss: 290832909220992902620675565420544.0000\n",
      "Epoch 2/50\n",
      "\u001b[1m53/53\u001b[0m \u001b[32m━━━━━━━━━━━━━━━━━━━━\u001b[0m\u001b[37m\u001b[0m \u001b[1m0s\u001b[0m 7ms/step - loss: 664.9088 - val_loss: 290832909220992902620675565420544.0000\n",
      "Epoch 3/50\n",
      "\u001b[1m53/53\u001b[0m \u001b[32m━━━━━━━━━━━━━━━━━━━━\u001b[0m\u001b[37m\u001b[0m \u001b[1m0s\u001b[0m 7ms/step - loss: 646.5882 - val_loss: 290832909220992902620675565420544.0000\n",
      "Epoch 4/50\n",
      "\u001b[1m53/53\u001b[0m \u001b[32m━━━━━━━━━━━━━━━━━━━━\u001b[0m\u001b[37m\u001b[0m \u001b[1m0s\u001b[0m 7ms/step - loss: 636.8010 - val_loss: 290832909220992902620675565420544.0000\n",
      "Epoch 5/50\n",
      "\u001b[1m53/53\u001b[0m \u001b[32m━━━━━━━━━━━━━━━━━━━━\u001b[0m\u001b[37m\u001b[0m \u001b[1m0s\u001b[0m 7ms/step - loss: 632.7646 - val_loss: 290832909220992902620675565420544.0000\n",
      "Epoch 6/50\n",
      "\u001b[1m53/53\u001b[0m \u001b[32m━━━━━━━━━━━━━━━━━━━━\u001b[0m\u001b[37m\u001b[0m \u001b[1m0s\u001b[0m 7ms/step - loss: 630.8857 - val_loss: 290832909220992902620675565420544.0000\n"
     ]
    },
    {
     "data": {
      "image/png": "[encoded data removed]",
      "text/plain": [
       "<Figure size 800x500 with 1 Axes>"
      ]
     },
     "metadata": {},
     "output_type": "display_data"
    }
   ],
   "source": [
    "early_stop_cnn = EarlyStopping(monitor='val_loss', patience=5, restore_best_weights=True)\n",
    "\n",
    "history_cnn = cnn_model.fit(X_train_pad, y_train_pad,\n",
    "                            validation_data=(X_valid_pad, y_valid_pad),\n",
    "                            epochs=50,\n",
    "                            batch_size=16,\n",
    "                            callbacks=[early_stop_cnn],\n",
    "                            verbose=1)\n",
    "\n",
    "# Plot training and validation loss\n",
    "plt.figure(figsize=(8, 5))\n",
    "plt.plot(history_cnn.history['loss'], label='Train Loss (CNN)')\n",
    "plt.plot(history_cnn.history['val_loss'], label='Val Loss (CNN)')\n",
    "plt.xlabel(\"Epoch\")\n",
    "plt.ylabel(\"MSE Loss\")\n",
    "plt.title(\"CNN Model Training vs. Validation Loss\")\n",
    "plt.legend()\n",
    "plt.show()"
   ]
  },
  {
   "cell_type": "markdown",
   "id": "c2993be5",
   "metadata": {
    "_cell_guid": "fe7b78f7-a78f-4cda-b597-5cbf25d98f28",
    "_uuid": "fe88f530-9cd2-4dd5-94f2-41e2021c50f9",
    "collapsed": false,
    "jupyter": {
     "outputs_hidden": false
    },
    "papermill": {
     "duration": 0.007102,
     "end_time": "2025-02-27T19:34:14.918783",
     "exception": false,
     "start_time": "2025-02-27T19:34:14.911681",
     "status": "completed"
    },
    "tags": []
   },
   "source": [
    "## 6. Generating Predictions and Submission File\n",
    "\n",
    "For each test sequence, we predict the 3D coordinates using our trained CNN model.\n",
    "\n",
    "The submission requires 5 sets of coordinates per target. In this baseline, we replicate the same predicted structure 5 times."
   ]
  },
  {
   "cell_type": "code",
   "execution_count": 8,
   "id": "d70be6eb",
   "metadata": {
    "_cell_guid": "fbab4072-6a39-49e3-b6f7-57e64556e9d7",
    "_uuid": "d1e938fc-98b7-499c-b05b-b6edd621c9d0",
    "collapsed": false,
    "execution": {
     "iopub.execute_input": "2025-02-27T19:34:14.934321Z",
     "iopub.status.busy": "2025-02-27T19:34:14.934034Z",
     "iopub.status.idle": "2025-02-27T19:34:15.260797Z",
     "shell.execute_reply": "2025-02-27T19:34:15.259758Z"
    },
    "jupyter": {
     "outputs_hidden": false
    },
    "papermill": {
     "duration": 0.336107,
     "end_time": "2025-02-27T19:34:15.262054",
     "exception": false,
     "start_time": "2025-02-27T19:34:14.925947",
     "status": "completed"
    },
    "tags": []
   },
   "outputs": [
    {
     "name": "stdout",
     "output_type": "stream",
     "text": [
      "\u001b[1m1/1\u001b[0m \u001b[32m━━━━━━━━━━━━━━━━━━━━\u001b[0m\u001b[37m\u001b[0m \u001b[1m0s\u001b[0m 240ms/step\n",
      "Submission DataFrame shape: (2515, 18)\n",
      "         ID resname  resid       x_1       x_2       x_3       x_4       x_5  \\\n",
      "0   R1107_1       G      1  1.173633  1.173633  1.173633  1.173633  1.173633   \n",
      "1   R1107_2       G      2  1.634578  1.634578  1.634578  1.634578  1.634578   \n",
      "2   R1107_3       G      3  1.719558  1.719558  1.719558  1.719558  1.719558   \n",
      "3   R1107_4       G      4  1.713900  1.713900  1.713900  1.713900  1.713900   \n",
      "4   R1107_5       G      5  1.690360  1.690360  1.690360  1.690360  1.690360   \n",
      "5   R1107_6       C      6  1.696408  1.696408  1.696408  1.696408  1.696408   \n",
      "6   R1107_7       C      7  1.729560  1.729560  1.729560  1.729560  1.729560   \n",
      "7   R1107_8       A      8  1.807830  1.807830  1.807830  1.807830  1.807830   \n",
      "8   R1107_9       C      9  1.808475  1.808475  1.808475  1.808475  1.808475   \n",
      "9  R1107_10       A     10  1.855314  1.855314  1.855314  1.855314  1.855314   \n",
      "\n",
      "        y_1       y_2       y_3       y_4       y_5       z_1       z_2  \\\n",
      "0  1.076931  1.076931  1.076931  1.076931  1.076931  0.891567  0.891567   \n",
      "1  1.457166  1.457166  1.457166  1.457166  1.457166  1.309494  1.309494   \n",
      "2  1.478515  1.478515  1.478515  1.478515  1.478515  1.379781  1.379781   \n",
      "3  1.478528  1.478528  1.478528  1.478528  1.478528  1.387295  1.387295   \n",
      "4  1.469542  1.469542  1.469542  1.469542  1.469542  1.416664  1.416664   \n",
      "5  1.482214  1.482214  1.482214  1.482214  1.482214  1.435875  1.435875   \n",
      "6  1.515551  1.515551  1.515551  1.515551  1.515551  1.437971  1.437971   \n",
      "7  1.519416  1.519416  1.519416  1.519416  1.519416  1.477825  1.477825   \n",
      "8  1.535635  1.535635  1.535635  1.535635  1.535635  1.482093  1.482093   \n",
      "9  1.571598  1.571598  1.571598  1.571598  1.571598  1.468325  1.468325   \n",
      "\n",
      "        z_3       z_4       z_5  \n",
      "0  0.891567  0.891567  0.891567  \n",
      "1  1.309494  1.309494  1.309494  \n",
      "2  1.379781  1.379781  1.379781  \n",
      "3  1.387295  1.387295  1.387295  \n",
      "4  1.416664  1.416664  1.416664  \n",
      "5  1.435875  1.435875  1.435875  \n",
      "6  1.437971  1.437971  1.437971  \n",
      "7  1.477825  1.477825  1.477825  \n",
      "8  1.482093  1.482093  1.482093  \n",
      "9  1.468325  1.468325  1.468325  \n"
     ]
    }
   ],
   "source": [
    "# Prepare test data: pad sequences to same length as training\n",
    "X_test = test_sequences['encoded'].tolist()\n",
    "X_test_pad = pad_sequences(X_test, maxlen=max_len, padding='post', value=0)\n",
    "\n",
    "# Predict coordinates using the trained CNN model\n",
    "predictions = cnn_model.predict(X_test_pad)\n",
    "\n",
    "# Build submission rows. Each row corresponds to a residue from a test target.\n",
    "submission_rows = []\n",
    "for idx, row in test_sequences.iterrows():\n",
    "    target_id = row['target_id']\n",
    "    # Get predicted coordinates (shape: [max_len, 3])\n",
    "    pred_coords = predictions[idx]\n",
    "    # Determine actual sequence length\n",
    "    seq_length = len(row['encoded'])\n",
    "    pred_coords = pred_coords[:seq_length, :]  # only actual residues\n",
    "    \n",
    "    # For each residue, create a row in the submission file\n",
    "    for i in range(seq_length):\n",
    "        coords = pred_coords[i, :]\n",
    "        # Replicate the same prediction 5 times for submission format\n",
    "        submission_rows.append({\n",
    "            'ID': f\"{target_id}_{i+1}\",\n",
    "            'resname': row['sequence'][i],\n",
    "            'resid': i+1,\n",
    "            **{f\"x_{j+1}\": coords[0] for j in range(5)},\n",
    "            **{f\"y_{j+1}\": coords[1] for j in range(5)},\n",
    "            **{f\"z_{j+1}\": coords[2] for j in range(5)}\n",
    "        })\n",
    "\n",
    "submission_df = pd.DataFrame(submission_rows)\n",
    "print(\"Submission DataFrame shape:\", submission_df.shape)\n",
    "print(submission_df.head(10))"
   ]
  },
  {
   "cell_type": "markdown",
   "id": "d469f269",
   "metadata": {
    "_cell_guid": "e122805e-51a2-411f-81f8-072ff85e4f5a",
    "_uuid": "7d9bbfd9-5f22-46bb-9a74-86c64c32623e",
    "collapsed": false,
    "jupyter": {
     "outputs_hidden": false
    },
    "papermill": {
     "duration": 0.007372,
     "end_time": "2025-02-27T19:34:15.277941",
     "exception": false,
     "start_time": "2025-02-27T19:34:15.270569",
     "status": "completed"
    },
    "tags": []
   },
   "source": [
    "## 7. Saving the Submission File\n",
    "\n",
    "Finally, we save the submission file as `submission.csv`."
   ]
  },
  {
   "cell_type": "code",
   "execution_count": 9,
   "id": "637f3ecd",
   "metadata": {
    "_cell_guid": "f1b1e66f-6ed2-4fed-b7bc-b5b9d2a306c2",
    "_uuid": "2632f190-329c-4373-9632-b03b99d89e90",
    "collapsed": false,
    "execution": {
     "iopub.execute_input": "2025-02-27T19:34:15.293786Z",
     "iopub.status.busy": "2025-02-27T19:34:15.293558Z",
     "iopub.status.idle": "2025-02-27T19:34:15.334023Z",
     "shell.execute_reply": "2025-02-27T19:34:15.333216Z"
    },
    "jupyter": {
     "outputs_hidden": false
    },
    "papermill": {
     "duration": 0.049692,
     "end_time": "2025-02-27T19:34:15.335277",
     "exception": false,
     "start_time": "2025-02-27T19:34:15.285585",
     "status": "completed"
    },
    "tags": []
   },
   "outputs": [
    {
     "name": "stdout",
     "output_type": "stream",
     "text": [
      "Submission file saved as submission.csv\n"
     ]
    }
   ],
   "source": [
    "submission_df.to_csv(\"submission.csv\", index=False)\n",
    "print(\"Submission file saved as submission.csv\")"
   ]
  }
 ],
 "metadata": {
  "kaggle": {
   "accelerator": "nvidiaTeslaT4",
   "dataSources": [
    {
     "databundleVersionId": 11228175,
     "sourceId": 87793,
     "sourceType": "competition"
    }
   ],
   "dockerImageVersionId": 30919,
   "isGpuEnabled": true,
   "isInternetEnabled": false,
   "language": "python",
   "sourceType": "notebook"
  },
  "kernelspec": {
   "display_name": "Python 3",
   "language": "python",
   "name": "python3"
  },
  "language_info": {
   "codemirror_mode": {
    "name": "ipython",
    "version": 3
   },
   "file_extension": ".py",
   "mimetype": "text/x-python",
   "name": "python",
   "nbconvert_exporter": "python",
   "pygments_lexer": "ipython3",
   "version": "3.10.12"
  },
  "papermill": {
   "default_parameters": {},
   "duration": 39.196901,
   "end_time": "2025-02-27T19:34:16.962939",
   "environment_variables": {},
   "exception": null,
   "input_path": "__notebook__.ipynb",
   "output_path": "__notebook__.ipynb",
   "parameters": {},
   "start_time": "2025-02-27T19:33:37.766038",
   "version": "2.6.0"
  }
 },
 "nbformat": 4,
 "nbformat_minor": 5
}
